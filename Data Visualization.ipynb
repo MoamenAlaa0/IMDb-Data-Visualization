{
 "cells": [
  {
   "cell_type": "code",
   "execution_count": 16,
   "id": "1f1d41ad",
   "metadata": {},
   "outputs": [
    {
     "data": {
      "text/html": [
       "        <script type=\"text/javascript\">\n",
       "        window.PlotlyConfig = {MathJaxConfig: 'local'};\n",
       "        if (window.MathJax) {MathJax.Hub.Config({SVG: {font: \"STIX-Web\"}});}\n",
       "        if (typeof require !== 'undefined') {\n",
       "        require.undef(\"plotly\");\n",
       "        requirejs.config({\n",
       "            paths: {\n",
       "                'plotly': ['https://cdn.plot.ly/plotly-2.8.3.min']\n",
       "            }\n",
       "        });\n",
       "        require(['plotly'], function(Plotly) {\n",
       "            window._Plotly = Plotly;\n",
       "        });\n",
       "        }\n",
       "        </script>\n",
       "        "
      ]
     },
     "metadata": {},
     "output_type": "display_data"
    }
   ],
   "source": [
    "import pandas as pd \n",
    "import plotly.express as px\n",
    "import dash\n",
    "from dash import dcc\n",
    "from dash import html\n",
    "import plotly.graph_objs as go\n",
    "\n",
    "# We need cufflinks to link plotly to pandas and add the iplot method\n",
    "import cufflinks as cf\n",
    "cf.go_offline()"
   ]
  },
  {
   "cell_type": "code",
   "execution_count": 2,
   "id": "09874009",
   "metadata": {},
   "outputs": [],
   "source": [
    "data = pd.read_csv('IMDb cleaned data.csv',low_memory = False)"
   ]
  },
  {
   "cell_type": "code",
   "execution_count": 3,
   "id": "8e3bfd25",
   "metadata": {
    "scrolled": false
   },
   "outputs": [
    {
     "data": {
      "text/html": [
       "<div>\n",
       "<style scoped>\n",
       "    .dataframe tbody tr th:only-of-type {\n",
       "        vertical-align: middle;\n",
       "    }\n",
       "\n",
       "    .dataframe tbody tr th {\n",
       "        vertical-align: top;\n",
       "    }\n",
       "\n",
       "    .dataframe thead th {\n",
       "        text-align: right;\n",
       "    }\n",
       "</style>\n",
       "<table border=\"1\" class=\"dataframe\">\n",
       "  <thead>\n",
       "    <tr style=\"text-align: right;\">\n",
       "      <th></th>\n",
       "      <th>imdb_title_id</th>\n",
       "      <th>title</th>\n",
       "      <th>date_published</th>\n",
       "      <th>year</th>\n",
       "      <th>genre</th>\n",
       "      <th>duration</th>\n",
       "      <th>country</th>\n",
       "      <th>director</th>\n",
       "      <th>votes</th>\n",
       "      <th>language</th>\n",
       "    </tr>\n",
       "  </thead>\n",
       "  <tbody>\n",
       "    <tr>\n",
       "      <th>0</th>\n",
       "      <td>tt0002101</td>\n",
       "      <td>Cleopatra</td>\n",
       "      <td>1912-11-13</td>\n",
       "      <td>1912</td>\n",
       "      <td>Drama,History</td>\n",
       "      <td>100</td>\n",
       "      <td>USA</td>\n",
       "      <td>Charles L. Gaskill</td>\n",
       "      <td>446</td>\n",
       "      <td>English</td>\n",
       "    </tr>\n",
       "    <tr>\n",
       "      <th>1</th>\n",
       "      <td>tt0002130</td>\n",
       "      <td>L'Inferno</td>\n",
       "      <td>1911-03-06</td>\n",
       "      <td>1911</td>\n",
       "      <td>Adventure,Drama,Fantasy</td>\n",
       "      <td>68</td>\n",
       "      <td>Italy</td>\n",
       "      <td>Francesco Bertolini, Adolfo Padovan</td>\n",
       "      <td>2237</td>\n",
       "      <td>Italian</td>\n",
       "    </tr>\n",
       "    <tr>\n",
       "      <th>2</th>\n",
       "      <td>tt0002423</td>\n",
       "      <td>Madame DuBarry</td>\n",
       "      <td>1919-11-26</td>\n",
       "      <td>1919</td>\n",
       "      <td>Biography,Drama,Romance</td>\n",
       "      <td>85</td>\n",
       "      <td>Germany</td>\n",
       "      <td>Ernst Lubitsch</td>\n",
       "      <td>753</td>\n",
       "      <td>German</td>\n",
       "    </tr>\n",
       "    <tr>\n",
       "      <th>3</th>\n",
       "      <td>tt0002445</td>\n",
       "      <td>Quo Vadis?</td>\n",
       "      <td>1913-03-01</td>\n",
       "      <td>1913</td>\n",
       "      <td>Drama,History</td>\n",
       "      <td>120</td>\n",
       "      <td>Italy</td>\n",
       "      <td>Enrico Guazzoni</td>\n",
       "      <td>273</td>\n",
       "      <td>Italian</td>\n",
       "    </tr>\n",
       "    <tr>\n",
       "      <th>4</th>\n",
       "      <td>tt0002461</td>\n",
       "      <td>Richard III</td>\n",
       "      <td>1912-10-15</td>\n",
       "      <td>1912</td>\n",
       "      <td>Drama</td>\n",
       "      <td>55</td>\n",
       "      <td>France, USA</td>\n",
       "      <td>André Calmettes, James Keane</td>\n",
       "      <td>225</td>\n",
       "      <td>English</td>\n",
       "    </tr>\n",
       "  </tbody>\n",
       "</table>\n",
       "</div>"
      ],
      "text/plain": [
       "  imdb_title_id           title date_published  year                    genre  \\\n",
       "0     tt0002101       Cleopatra     1912-11-13  1912            Drama,History   \n",
       "1     tt0002130       L'Inferno     1911-03-06  1911  Adventure,Drama,Fantasy   \n",
       "2     tt0002423  Madame DuBarry     1919-11-26  1919  Biography,Drama,Romance   \n",
       "3     tt0002445      Quo Vadis?     1913-03-01  1913            Drama,History   \n",
       "4     tt0002461     Richard III     1912-10-15  1912                    Drama   \n",
       "\n",
       "   duration      country                             director  votes language  \n",
       "0       100          USA                   Charles L. Gaskill    446  English  \n",
       "1        68        Italy  Francesco Bertolini, Adolfo Padovan   2237  Italian  \n",
       "2        85      Germany                       Ernst Lubitsch    753   German  \n",
       "3       120        Italy                      Enrico Guazzoni    273  Italian  \n",
       "4        55  France, USA         André Calmettes, James Keane    225  English  "
      ]
     },
     "execution_count": 3,
     "metadata": {},
     "output_type": "execute_result"
    }
   ],
   "source": [
    "data.head()"
   ]
  },
  {
   "cell_type": "code",
   "execution_count": 4,
   "id": "4bcdca73",
   "metadata": {},
   "outputs": [],
   "source": [
    "#Select = data[data['year'] == 1944]['country'].str.cat(sep = ',').replace(\" \",\"\").lower().replace(\"westgermany\",\"germany\")\n",
    "Select = data['country'].str.cat(sep = ',').replace(\" \",\"\").lower().replace(\"westgermany\",\"germany\")\n",
    "G = pd.Series(Select.split(','))\n",
    "frame = G.value_counts().rename_axis('country').reset_index(name='Frequency')\n",
    "frame['country'] = frame['country'].str.capitalize() "
   ]
  },
  {
   "cell_type": "code",
   "execution_count": 5,
   "id": "80cd0bb3",
   "metadata": {},
   "outputs": [
    {
     "data": {
      "application/vnd.plotly.v1+json": {
       "config": {
        "plotlyServerURL": "https://plot.ly"
       },
       "data": [
        {
         "geo": "geo",
         "hovertemplate": "<b>%{hovertext}</b><br><br>Frequency=%{marker.size}<br>country=%{location}<extra></extra>",
         "hovertext": [
          "Usa",
          "France",
          "Uk",
          "India",
          "Italy",
          "Germany",
          "Japan",
          "Canada",
          "Spain",
          "Hongkong",
          "Belgium",
          "Southkorea",
          "Sweden",
          "Turkey",
          "Australia",
          "Mexico",
          "China",
          "Russia",
          "Netherlands",
          "Denmark",
          "Poland",
          "Brazil",
          "Argentina",
          "Sovietunion",
          "Finland",
          "Greece",
          "Norway",
          "Hungary",
          "Switzerland",
          "Iran",
          "Ireland",
          "Romania",
          "Czechrepublic",
          "Austria",
          "Portugal",
          "Egypt",
          "Philippines",
          "Taiwan",
          "Yugoslavia",
          "Thailand",
          "Southafrica",
          "Czechoslovakia",
          "Israel",
          "Indonesia",
          "Bulgaria",
          "Luxembourg",
          "Newzealand",
          "Chile",
          "Serbia",
          "Croatia",
          "Colombia",
          "Iceland",
          "Ukraine",
          "Singapore",
          "Estonia",
          "Slovenia",
          "Bangladesh",
          "Lithuania",
          "Malaysia",
          "Unitedarabemirates",
          "Slovakia",
          "Pakistan",
          "Bosniaandherzegovina",
          "Morocco",
          "Peru",
          "Federalrepublicofyugoslavia",
          "Qatar",
          "Eastgermany",
          "Republicofnorthmacedonia",
          "Cuba",
          "Latvia",
          "Vietnam",
          "Uruguay",
          "Lebanon",
          "Venezuela",
          "Georgia",
          "Tunisia",
          "Dominicanrepublic",
          "Algeria",
          "Kazakhstan",
          "Albania",
          "Puertorico",
          "Nigeria",
          "Nepal",
          "Srilanka",
          "Malta",
          "Jordan",
          "Monaco",
          "Palestine",
          "Cyprus",
          "Iraq",
          "Bolivia",
          "Senegal",
          "Armenia",
          "Cambodia",
          "Costarica",
          "Liechtenstein",
          "Azerbaijan",
          "Panama",
          "Kenya",
          "Afghanistan",
          "Kosovo",
          "Saudiarabia",
          "Ecuador",
          "Burkinafaso",
          "Montenegro",
          "Kyrgyzstan",
          "Isleofman",
          "Guatemala",
          "Belarus",
          "Jamaica",
          "Mongolia",
          "Bahamas",
          "Ghana",
          "Ethiopia",
          "Angola",
          "Trinidadandtobago",
          "Serbiaandmontenegro",
          "Haiti",
          "Caymanislands",
          "Bhutan",
          "Myanmar",
          "Côted'ivoire",
          "Paraguay",
          "Moldova",
          "Syria",
          "Mali",
          "Tajikistan",
          "Netherlandsantilles",
          "Mauritania",
          "Greenland",
          "Aruba",
          "Kuwait",
          "Rwanda",
          "Macao",
          "Uzbekistan",
          "Chad",
          "Cameroon",
          "Yemen",
          "Bahrain",
          "Martinique",
          "Honduras",
          "Fiji",
          "Thedemocraticrepublicofcongo",
          "Sudan",
          "Laos",
          "Zambia",
          "Andorra",
          "Northkorea",
          "Samoa",
          "Mozambique",
          "Brunei",
          "Libya",
          "Somalia",
          "Liberia",
          "Botswana",
          "Bermuda",
          "Niger",
          "Namibia",
          "Reunion",
          "Uganda",
          "Zimbabwe",
          "Lesotho",
          "Britishvirginislands",
          "Zaire",
          "Equatorialguinea",
          "Northvietnam",
          "Belize",
          "Maldives",
          "Faroeislands",
          "Holysee(vaticancitystate)",
          "Tanzania",
          "Capeverde",
          "Guinea",
          "Elsalvador",
          "Malawi",
          "Cookislands",
          "Gibraltar",
          "Suriname",
          "Papuanewguinea",
          "Newcaledonia",
          "Gabon",
          "Oman",
          "Nicaragua",
          "Svalbardandjanmayen",
          "Swaziland",
          "Korea",
          "Guinea-bissau",
          "Mauritius",
          "Vanuatu",
          "Djibouti",
          "Guadeloupe"
         ],
         "legendgroup": "",
         "locationmode": "country names",
         "locations": [
          "Usa",
          "France",
          "Uk",
          "India",
          "Italy",
          "Germany",
          "Japan",
          "Canada",
          "Spain",
          "Hongkong",
          "Belgium",
          "Southkorea",
          "Sweden",
          "Turkey",
          "Australia",
          "Mexico",
          "China",
          "Russia",
          "Netherlands",
          "Denmark",
          "Poland",
          "Brazil",
          "Argentina",
          "Sovietunion",
          "Finland",
          "Greece",
          "Norway",
          "Hungary",
          "Switzerland",
          "Iran",
          "Ireland",
          "Romania",
          "Czechrepublic",
          "Austria",
          "Portugal",
          "Egypt",
          "Philippines",
          "Taiwan",
          "Yugoslavia",
          "Thailand",
          "Southafrica",
          "Czechoslovakia",
          "Israel",
          "Indonesia",
          "Bulgaria",
          "Luxembourg",
          "Newzealand",
          "Chile",
          "Serbia",
          "Croatia",
          "Colombia",
          "Iceland",
          "Ukraine",
          "Singapore",
          "Estonia",
          "Slovenia",
          "Bangladesh",
          "Lithuania",
          "Malaysia",
          "Unitedarabemirates",
          "Slovakia",
          "Pakistan",
          "Bosniaandherzegovina",
          "Morocco",
          "Peru",
          "Federalrepublicofyugoslavia",
          "Qatar",
          "Eastgermany",
          "Republicofnorthmacedonia",
          "Cuba",
          "Latvia",
          "Vietnam",
          "Uruguay",
          "Lebanon",
          "Venezuela",
          "Georgia",
          "Tunisia",
          "Dominicanrepublic",
          "Algeria",
          "Kazakhstan",
          "Albania",
          "Puertorico",
          "Nigeria",
          "Nepal",
          "Srilanka",
          "Malta",
          "Jordan",
          "Monaco",
          "Palestine",
          "Cyprus",
          "Iraq",
          "Bolivia",
          "Senegal",
          "Armenia",
          "Cambodia",
          "Costarica",
          "Liechtenstein",
          "Azerbaijan",
          "Panama",
          "Kenya",
          "Afghanistan",
          "Kosovo",
          "Saudiarabia",
          "Ecuador",
          "Burkinafaso",
          "Montenegro",
          "Kyrgyzstan",
          "Isleofman",
          "Guatemala",
          "Belarus",
          "Jamaica",
          "Mongolia",
          "Bahamas",
          "Ghana",
          "Ethiopia",
          "Angola",
          "Trinidadandtobago",
          "Serbiaandmontenegro",
          "Haiti",
          "Caymanislands",
          "Bhutan",
          "Myanmar",
          "Côted'ivoire",
          "Paraguay",
          "Moldova",
          "Syria",
          "Mali",
          "Tajikistan",
          "Netherlandsantilles",
          "Mauritania",
          "Greenland",
          "Aruba",
          "Kuwait",
          "Rwanda",
          "Macao",
          "Uzbekistan",
          "Chad",
          "Cameroon",
          "Yemen",
          "Bahrain",
          "Martinique",
          "Honduras",
          "Fiji",
          "Thedemocraticrepublicofcongo",
          "Sudan",
          "Laos",
          "Zambia",
          "Andorra",
          "Northkorea",
          "Samoa",
          "Mozambique",
          "Brunei",
          "Libya",
          "Somalia",
          "Liberia",
          "Botswana",
          "Bermuda",
          "Niger",
          "Namibia",
          "Reunion",
          "Uganda",
          "Zimbabwe",
          "Lesotho",
          "Britishvirginislands",
          "Zaire",
          "Equatorialguinea",
          "Northvietnam",
          "Belize",
          "Maldives",
          "Faroeislands",
          "Holysee(vaticancitystate)",
          "Tanzania",
          "Capeverde",
          "Guinea",
          "Elsalvador",
          "Malawi",
          "Cookislands",
          "Gibraltar",
          "Suriname",
          "Papuanewguinea",
          "Newcaledonia",
          "Gabon",
          "Oman",
          "Nicaragua",
          "Svalbardandjanmayen",
          "Swaziland",
          "Korea",
          "Guinea-bissau",
          "Mauritius",
          "Vanuatu",
          "Djibouti",
          "Guadeloupe"
         ],
         "marker": {
          "color": "orange",
          "size": [
           32333,
           8089,
           7102,
           5757,
           4888,
           4652,
           3575,
           3448,
           2653,
           1775,
           1315,
           1276,
           1195,
           1178,
           1131,
           1128,
           1090,
           1013,
           1009,
           1008,
           885,
           882,
           841,
           695,
           669,
           637,
           630,
           622,
           618,
           614,
           460,
           446,
           430,
           426,
           416,
           384,
           365,
           363,
           345,
           345,
           315,
           294,
           283,
           267,
           263,
           240,
           228,
           219,
           214,
           191,
           172,
           161,
           134,
           120,
           112,
           109,
           108,
           105,
           104,
           103,
           100,
           87,
           80,
           76,
           74,
           72,
           70,
           69,
           68,
           68,
           65,
           61,
           60,
           60,
           59,
           55,
           53,
           53,
           42,
           42,
           37,
           36,
           35,
           30,
           30,
           28,
           27,
           26,
           26,
           26,
           24,
           23,
           23,
           21,
           20,
           19,
           18,
           17,
           16,
           16,
           15,
           15,
           14,
           14,
           14,
           14,
           13,
           12,
           11,
           11,
           11,
           10,
           10,
           8,
           8,
           8,
           8,
           7,
           7,
           7,
           7,
           7,
           6,
           6,
           6,
           6,
           6,
           6,
           5,
           5,
           5,
           5,
           5,
           4,
           4,
           4,
           4,
           4,
           4,
           4,
           3,
           3,
           3,
           3,
           3,
           3,
           3,
           3,
           3,
           2,
           2,
           2,
           2,
           2,
           2,
           2,
           2,
           2,
           2,
           2,
           2,
           2,
           2,
           2,
           2,
           1,
           1,
           1,
           1,
           1,
           1,
           1,
           1,
           1,
           1,
           1,
           1,
           1,
           1,
           1,
           1,
           1,
           1,
           1,
           1,
           1,
           1,
           1,
           1,
           1,
           1,
           1
          ],
          "sizemode": "area",
          "sizeref": 80.8325,
          "symbol": "circle"
         },
         "mode": "markers",
         "name": "",
         "showlegend": false,
         "type": "scattergeo"
        }
       ],
       "layout": {
        "geo": {
         "center": {},
         "domain": {
          "x": [
           0,
           1
          ],
          "y": [
           0,
           1
          ]
         },
         "projection": {
          "type": "natural earth"
         }
        },
        "legend": {
         "itemsizing": "constant",
         "tracegroupgap": 0
        },
        "margin": {
         "t": 60
        },
        "template": {
         "data": {
          "bar": [
           {
            "error_x": {
             "color": "#2a3f5f"
            },
            "error_y": {
             "color": "#2a3f5f"
            },
            "marker": {
             "line": {
              "color": "#E5ECF6",
              "width": 0.5
             },
             "pattern": {
              "fillmode": "overlay",
              "size": 10,
              "solidity": 0.2
             }
            },
            "type": "bar"
           }
          ],
          "barpolar": [
           {
            "marker": {
             "line": {
              "color": "#E5ECF6",
              "width": 0.5
             },
             "pattern": {
              "fillmode": "overlay",
              "size": 10,
              "solidity": 0.2
             }
            },
            "type": "barpolar"
           }
          ],
          "carpet": [
           {
            "aaxis": {
             "endlinecolor": "#2a3f5f",
             "gridcolor": "white",
             "linecolor": "white",
             "minorgridcolor": "white",
             "startlinecolor": "#2a3f5f"
            },
            "baxis": {
             "endlinecolor": "#2a3f5f",
             "gridcolor": "white",
             "linecolor": "white",
             "minorgridcolor": "white",
             "startlinecolor": "#2a3f5f"
            },
            "type": "carpet"
           }
          ],
          "choropleth": [
           {
            "colorbar": {
             "outlinewidth": 0,
             "ticks": ""
            },
            "type": "choropleth"
           }
          ],
          "contour": [
           {
            "colorbar": {
             "outlinewidth": 0,
             "ticks": ""
            },
            "colorscale": [
             [
              0,
              "#0d0887"
             ],
             [
              0.1111111111111111,
              "#46039f"
             ],
             [
              0.2222222222222222,
              "#7201a8"
             ],
             [
              0.3333333333333333,
              "#9c179e"
             ],
             [
              0.4444444444444444,
              "#bd3786"
             ],
             [
              0.5555555555555556,
              "#d8576b"
             ],
             [
              0.6666666666666666,
              "#ed7953"
             ],
             [
              0.7777777777777778,
              "#fb9f3a"
             ],
             [
              0.8888888888888888,
              "#fdca26"
             ],
             [
              1,
              "#f0f921"
             ]
            ],
            "type": "contour"
           }
          ],
          "contourcarpet": [
           {
            "colorbar": {
             "outlinewidth": 0,
             "ticks": ""
            },
            "type": "contourcarpet"
           }
          ],
          "heatmap": [
           {
            "colorbar": {
             "outlinewidth": 0,
             "ticks": ""
            },
            "colorscale": [
             [
              0,
              "#0d0887"
             ],
             [
              0.1111111111111111,
              "#46039f"
             ],
             [
              0.2222222222222222,
              "#7201a8"
             ],
             [
              0.3333333333333333,
              "#9c179e"
             ],
             [
              0.4444444444444444,
              "#bd3786"
             ],
             [
              0.5555555555555556,
              "#d8576b"
             ],
             [
              0.6666666666666666,
              "#ed7953"
             ],
             [
              0.7777777777777778,
              "#fb9f3a"
             ],
             [
              0.8888888888888888,
              "#fdca26"
             ],
             [
              1,
              "#f0f921"
             ]
            ],
            "type": "heatmap"
           }
          ],
          "heatmapgl": [
           {
            "colorbar": {
             "outlinewidth": 0,
             "ticks": ""
            },
            "colorscale": [
             [
              0,
              "#0d0887"
             ],
             [
              0.1111111111111111,
              "#46039f"
             ],
             [
              0.2222222222222222,
              "#7201a8"
             ],
             [
              0.3333333333333333,
              "#9c179e"
             ],
             [
              0.4444444444444444,
              "#bd3786"
             ],
             [
              0.5555555555555556,
              "#d8576b"
             ],
             [
              0.6666666666666666,
              "#ed7953"
             ],
             [
              0.7777777777777778,
              "#fb9f3a"
             ],
             [
              0.8888888888888888,
              "#fdca26"
             ],
             [
              1,
              "#f0f921"
             ]
            ],
            "type": "heatmapgl"
           }
          ],
          "histogram": [
           {
            "marker": {
             "pattern": {
              "fillmode": "overlay",
              "size": 10,
              "solidity": 0.2
             }
            },
            "type": "histogram"
           }
          ],
          "histogram2d": [
           {
            "colorbar": {
             "outlinewidth": 0,
             "ticks": ""
            },
            "colorscale": [
             [
              0,
              "#0d0887"
             ],
             [
              0.1111111111111111,
              "#46039f"
             ],
             [
              0.2222222222222222,
              "#7201a8"
             ],
             [
              0.3333333333333333,
              "#9c179e"
             ],
             [
              0.4444444444444444,
              "#bd3786"
             ],
             [
              0.5555555555555556,
              "#d8576b"
             ],
             [
              0.6666666666666666,
              "#ed7953"
             ],
             [
              0.7777777777777778,
              "#fb9f3a"
             ],
             [
              0.8888888888888888,
              "#fdca26"
             ],
             [
              1,
              "#f0f921"
             ]
            ],
            "type": "histogram2d"
           }
          ],
          "histogram2dcontour": [
           {
            "colorbar": {
             "outlinewidth": 0,
             "ticks": ""
            },
            "colorscale": [
             [
              0,
              "#0d0887"
             ],
             [
              0.1111111111111111,
              "#46039f"
             ],
             [
              0.2222222222222222,
              "#7201a8"
             ],
             [
              0.3333333333333333,
              "#9c179e"
             ],
             [
              0.4444444444444444,
              "#bd3786"
             ],
             [
              0.5555555555555556,
              "#d8576b"
             ],
             [
              0.6666666666666666,
              "#ed7953"
             ],
             [
              0.7777777777777778,
              "#fb9f3a"
             ],
             [
              0.8888888888888888,
              "#fdca26"
             ],
             [
              1,
              "#f0f921"
             ]
            ],
            "type": "histogram2dcontour"
           }
          ],
          "mesh3d": [
           {
            "colorbar": {
             "outlinewidth": 0,
             "ticks": ""
            },
            "type": "mesh3d"
           }
          ],
          "parcoords": [
           {
            "line": {
             "colorbar": {
              "outlinewidth": 0,
              "ticks": ""
             }
            },
            "type": "parcoords"
           }
          ],
          "pie": [
           {
            "automargin": true,
            "type": "pie"
           }
          ],
          "scatter": [
           {
            "marker": {
             "colorbar": {
              "outlinewidth": 0,
              "ticks": ""
             }
            },
            "type": "scatter"
           }
          ],
          "scatter3d": [
           {
            "line": {
             "colorbar": {
              "outlinewidth": 0,
              "ticks": ""
             }
            },
            "marker": {
             "colorbar": {
              "outlinewidth": 0,
              "ticks": ""
             }
            },
            "type": "scatter3d"
           }
          ],
          "scattercarpet": [
           {
            "marker": {
             "colorbar": {
              "outlinewidth": 0,
              "ticks": ""
             }
            },
            "type": "scattercarpet"
           }
          ],
          "scattergeo": [
           {
            "marker": {
             "colorbar": {
              "outlinewidth": 0,
              "ticks": ""
             }
            },
            "type": "scattergeo"
           }
          ],
          "scattergl": [
           {
            "marker": {
             "colorbar": {
              "outlinewidth": 0,
              "ticks": ""
             }
            },
            "type": "scattergl"
           }
          ],
          "scattermapbox": [
           {
            "marker": {
             "colorbar": {
              "outlinewidth": 0,
              "ticks": ""
             }
            },
            "type": "scattermapbox"
           }
          ],
          "scatterpolar": [
           {
            "marker": {
             "colorbar": {
              "outlinewidth": 0,
              "ticks": ""
             }
            },
            "type": "scatterpolar"
           }
          ],
          "scatterpolargl": [
           {
            "marker": {
             "colorbar": {
              "outlinewidth": 0,
              "ticks": ""
             }
            },
            "type": "scatterpolargl"
           }
          ],
          "scatterternary": [
           {
            "marker": {
             "colorbar": {
              "outlinewidth": 0,
              "ticks": ""
             }
            },
            "type": "scatterternary"
           }
          ],
          "surface": [
           {
            "colorbar": {
             "outlinewidth": 0,
             "ticks": ""
            },
            "colorscale": [
             [
              0,
              "#0d0887"
             ],
             [
              0.1111111111111111,
              "#46039f"
             ],
             [
              0.2222222222222222,
              "#7201a8"
             ],
             [
              0.3333333333333333,
              "#9c179e"
             ],
             [
              0.4444444444444444,
              "#bd3786"
             ],
             [
              0.5555555555555556,
              "#d8576b"
             ],
             [
              0.6666666666666666,
              "#ed7953"
             ],
             [
              0.7777777777777778,
              "#fb9f3a"
             ],
             [
              0.8888888888888888,
              "#fdca26"
             ],
             [
              1,
              "#f0f921"
             ]
            ],
            "type": "surface"
           }
          ],
          "table": [
           {
            "cells": {
             "fill": {
              "color": "#EBF0F8"
             },
             "line": {
              "color": "white"
             }
            },
            "header": {
             "fill": {
              "color": "#C8D4E3"
             },
             "line": {
              "color": "white"
             }
            },
            "type": "table"
           }
          ]
         },
         "layout": {
          "annotationdefaults": {
           "arrowcolor": "#2a3f5f",
           "arrowhead": 0,
           "arrowwidth": 1
          },
          "autotypenumbers": "strict",
          "coloraxis": {
           "colorbar": {
            "outlinewidth": 0,
            "ticks": ""
           }
          },
          "colorscale": {
           "diverging": [
            [
             0,
             "#8e0152"
            ],
            [
             0.1,
             "#c51b7d"
            ],
            [
             0.2,
             "#de77ae"
            ],
            [
             0.3,
             "#f1b6da"
            ],
            [
             0.4,
             "#fde0ef"
            ],
            [
             0.5,
             "#f7f7f7"
            ],
            [
             0.6,
             "#e6f5d0"
            ],
            [
             0.7,
             "#b8e186"
            ],
            [
             0.8,
             "#7fbc41"
            ],
            [
             0.9,
             "#4d9221"
            ],
            [
             1,
             "#276419"
            ]
           ],
           "sequential": [
            [
             0,
             "#0d0887"
            ],
            [
             0.1111111111111111,
             "#46039f"
            ],
            [
             0.2222222222222222,
             "#7201a8"
            ],
            [
             0.3333333333333333,
             "#9c179e"
            ],
            [
             0.4444444444444444,
             "#bd3786"
            ],
            [
             0.5555555555555556,
             "#d8576b"
            ],
            [
             0.6666666666666666,
             "#ed7953"
            ],
            [
             0.7777777777777778,
             "#fb9f3a"
            ],
            [
             0.8888888888888888,
             "#fdca26"
            ],
            [
             1,
             "#f0f921"
            ]
           ],
           "sequentialminus": [
            [
             0,
             "#0d0887"
            ],
            [
             0.1111111111111111,
             "#46039f"
            ],
            [
             0.2222222222222222,
             "#7201a8"
            ],
            [
             0.3333333333333333,
             "#9c179e"
            ],
            [
             0.4444444444444444,
             "#bd3786"
            ],
            [
             0.5555555555555556,
             "#d8576b"
            ],
            [
             0.6666666666666666,
             "#ed7953"
            ],
            [
             0.7777777777777778,
             "#fb9f3a"
            ],
            [
             0.8888888888888888,
             "#fdca26"
            ],
            [
             1,
             "#f0f921"
            ]
           ]
          },
          "colorway": [
           "#636efa",
           "#EF553B",
           "#00cc96",
           "#ab63fa",
           "#FFA15A",
           "#19d3f3",
           "#FF6692",
           "#B6E880",
           "#FF97FF",
           "#FECB52"
          ],
          "font": {
           "color": "#2a3f5f"
          },
          "geo": {
           "bgcolor": "white",
           "lakecolor": "white",
           "landcolor": "#E5ECF6",
           "showlakes": true,
           "showland": true,
           "subunitcolor": "white"
          },
          "hoverlabel": {
           "align": "left"
          },
          "hovermode": "closest",
          "mapbox": {
           "style": "light"
          },
          "paper_bgcolor": "white",
          "plot_bgcolor": "#E5ECF6",
          "polar": {
           "angularaxis": {
            "gridcolor": "white",
            "linecolor": "white",
            "ticks": ""
           },
           "bgcolor": "#E5ECF6",
           "radialaxis": {
            "gridcolor": "white",
            "linecolor": "white",
            "ticks": ""
           }
          },
          "scene": {
           "xaxis": {
            "backgroundcolor": "#E5ECF6",
            "gridcolor": "white",
            "gridwidth": 2,
            "linecolor": "white",
            "showbackground": true,
            "ticks": "",
            "zerolinecolor": "white"
           },
           "yaxis": {
            "backgroundcolor": "#E5ECF6",
            "gridcolor": "white",
            "gridwidth": 2,
            "linecolor": "white",
            "showbackground": true,
            "ticks": "",
            "zerolinecolor": "white"
           },
           "zaxis": {
            "backgroundcolor": "#E5ECF6",
            "gridcolor": "white",
            "gridwidth": 2,
            "linecolor": "white",
            "showbackground": true,
            "ticks": "",
            "zerolinecolor": "white"
           }
          },
          "shapedefaults": {
           "line": {
            "color": "#2a3f5f"
           }
          },
          "ternary": {
           "aaxis": {
            "gridcolor": "white",
            "linecolor": "white",
            "ticks": ""
           },
           "baxis": {
            "gridcolor": "white",
            "linecolor": "white",
            "ticks": ""
           },
           "bgcolor": "#E5ECF6",
           "caxis": {
            "gridcolor": "white",
            "linecolor": "white",
            "ticks": ""
           }
          },
          "title": {
           "x": 0.05
          },
          "xaxis": {
           "automargin": true,
           "gridcolor": "white",
           "linecolor": "white",
           "ticks": "",
           "title": {
            "standoff": 15
           },
           "zerolinecolor": "white",
           "zerolinewidth": 2
          },
          "yaxis": {
           "automargin": true,
           "gridcolor": "white",
           "linecolor": "white",
           "ticks": "",
           "title": {
            "standoff": 15
           },
           "zerolinecolor": "white",
           "zerolinewidth": 2
          }
         }
        }
       }
      },
      "text/html": [
       "<div>                            <div id=\"28a9de9b-965f-4993-ba47-a9f361de79a1\" class=\"plotly-graph-div\" style=\"height:525px; width:100%;\"></div>            <script type=\"text/javascript\">                require([\"plotly\"], function(Plotly) {                    window.PLOTLYENV=window.PLOTLYENV || {};                                    if (document.getElementById(\"28a9de9b-965f-4993-ba47-a9f361de79a1\")) {                    Plotly.newPlot(                        \"28a9de9b-965f-4993-ba47-a9f361de79a1\",                        [{\"geo\":\"geo\",\"hovertemplate\":\"<b>%{hovertext}</b><br><br>Frequency=%{marker.size}<br>country=%{location}<extra></extra>\",\"hovertext\":[\"Usa\",\"France\",\"Uk\",\"India\",\"Italy\",\"Germany\",\"Japan\",\"Canada\",\"Spain\",\"Hongkong\",\"Belgium\",\"Southkorea\",\"Sweden\",\"Turkey\",\"Australia\",\"Mexico\",\"China\",\"Russia\",\"Netherlands\",\"Denmark\",\"Poland\",\"Brazil\",\"Argentina\",\"Sovietunion\",\"Finland\",\"Greece\",\"Norway\",\"Hungary\",\"Switzerland\",\"Iran\",\"Ireland\",\"Romania\",\"Czechrepublic\",\"Austria\",\"Portugal\",\"Egypt\",\"Philippines\",\"Taiwan\",\"Yugoslavia\",\"Thailand\",\"Southafrica\",\"Czechoslovakia\",\"Israel\",\"Indonesia\",\"Bulgaria\",\"Luxembourg\",\"Newzealand\",\"Chile\",\"Serbia\",\"Croatia\",\"Colombia\",\"Iceland\",\"Ukraine\",\"Singapore\",\"Estonia\",\"Slovenia\",\"Bangladesh\",\"Lithuania\",\"Malaysia\",\"Unitedarabemirates\",\"Slovakia\",\"Pakistan\",\"Bosniaandherzegovina\",\"Morocco\",\"Peru\",\"Federalrepublicofyugoslavia\",\"Qatar\",\"Eastgermany\",\"Republicofnorthmacedonia\",\"Cuba\",\"Latvia\",\"Vietnam\",\"Uruguay\",\"Lebanon\",\"Venezuela\",\"Georgia\",\"Tunisia\",\"Dominicanrepublic\",\"Algeria\",\"Kazakhstan\",\"Albania\",\"Puertorico\",\"Nigeria\",\"Nepal\",\"Srilanka\",\"Malta\",\"Jordan\",\"Monaco\",\"Palestine\",\"Cyprus\",\"Iraq\",\"Bolivia\",\"Senegal\",\"Armenia\",\"Cambodia\",\"Costarica\",\"Liechtenstein\",\"Azerbaijan\",\"Panama\",\"Kenya\",\"Afghanistan\",\"Kosovo\",\"Saudiarabia\",\"Ecuador\",\"Burkinafaso\",\"Montenegro\",\"Kyrgyzstan\",\"Isleofman\",\"Guatemala\",\"Belarus\",\"Jamaica\",\"Mongolia\",\"Bahamas\",\"Ghana\",\"Ethiopia\",\"Angola\",\"Trinidadandtobago\",\"Serbiaandmontenegro\",\"Haiti\",\"Caymanislands\",\"Bhutan\",\"Myanmar\",\"C\\u00f4ted'ivoire\",\"Paraguay\",\"Moldova\",\"Syria\",\"Mali\",\"Tajikistan\",\"Netherlandsantilles\",\"Mauritania\",\"Greenland\",\"Aruba\",\"Kuwait\",\"Rwanda\",\"Macao\",\"Uzbekistan\",\"Chad\",\"Cameroon\",\"Yemen\",\"Bahrain\",\"Martinique\",\"Honduras\",\"Fiji\",\"Thedemocraticrepublicofcongo\",\"Sudan\",\"Laos\",\"Zambia\",\"Andorra\",\"Northkorea\",\"Samoa\",\"Mozambique\",\"Brunei\",\"Libya\",\"Somalia\",\"Liberia\",\"Botswana\",\"Bermuda\",\"Niger\",\"Namibia\",\"Reunion\",\"Uganda\",\"Zimbabwe\",\"Lesotho\",\"Britishvirginislands\",\"Zaire\",\"Equatorialguinea\",\"Northvietnam\",\"Belize\",\"Maldives\",\"Faroeislands\",\"Holysee(vaticancitystate)\",\"Tanzania\",\"Capeverde\",\"Guinea\",\"Elsalvador\",\"Malawi\",\"Cookislands\",\"Gibraltar\",\"Suriname\",\"Papuanewguinea\",\"Newcaledonia\",\"Gabon\",\"Oman\",\"Nicaragua\",\"Svalbardandjanmayen\",\"Swaziland\",\"Korea\",\"Guinea-bissau\",\"Mauritius\",\"Vanuatu\",\"Djibouti\",\"Guadeloupe\"],\"legendgroup\":\"\",\"locationmode\":\"country names\",\"locations\":[\"Usa\",\"France\",\"Uk\",\"India\",\"Italy\",\"Germany\",\"Japan\",\"Canada\",\"Spain\",\"Hongkong\",\"Belgium\",\"Southkorea\",\"Sweden\",\"Turkey\",\"Australia\",\"Mexico\",\"China\",\"Russia\",\"Netherlands\",\"Denmark\",\"Poland\",\"Brazil\",\"Argentina\",\"Sovietunion\",\"Finland\",\"Greece\",\"Norway\",\"Hungary\",\"Switzerland\",\"Iran\",\"Ireland\",\"Romania\",\"Czechrepublic\",\"Austria\",\"Portugal\",\"Egypt\",\"Philippines\",\"Taiwan\",\"Yugoslavia\",\"Thailand\",\"Southafrica\",\"Czechoslovakia\",\"Israel\",\"Indonesia\",\"Bulgaria\",\"Luxembourg\",\"Newzealand\",\"Chile\",\"Serbia\",\"Croatia\",\"Colombia\",\"Iceland\",\"Ukraine\",\"Singapore\",\"Estonia\",\"Slovenia\",\"Bangladesh\",\"Lithuania\",\"Malaysia\",\"Unitedarabemirates\",\"Slovakia\",\"Pakistan\",\"Bosniaandherzegovina\",\"Morocco\",\"Peru\",\"Federalrepublicofyugoslavia\",\"Qatar\",\"Eastgermany\",\"Republicofnorthmacedonia\",\"Cuba\",\"Latvia\",\"Vietnam\",\"Uruguay\",\"Lebanon\",\"Venezuela\",\"Georgia\",\"Tunisia\",\"Dominicanrepublic\",\"Algeria\",\"Kazakhstan\",\"Albania\",\"Puertorico\",\"Nigeria\",\"Nepal\",\"Srilanka\",\"Malta\",\"Jordan\",\"Monaco\",\"Palestine\",\"Cyprus\",\"Iraq\",\"Bolivia\",\"Senegal\",\"Armenia\",\"Cambodia\",\"Costarica\",\"Liechtenstein\",\"Azerbaijan\",\"Panama\",\"Kenya\",\"Afghanistan\",\"Kosovo\",\"Saudiarabia\",\"Ecuador\",\"Burkinafaso\",\"Montenegro\",\"Kyrgyzstan\",\"Isleofman\",\"Guatemala\",\"Belarus\",\"Jamaica\",\"Mongolia\",\"Bahamas\",\"Ghana\",\"Ethiopia\",\"Angola\",\"Trinidadandtobago\",\"Serbiaandmontenegro\",\"Haiti\",\"Caymanislands\",\"Bhutan\",\"Myanmar\",\"C\\u00f4ted'ivoire\",\"Paraguay\",\"Moldova\",\"Syria\",\"Mali\",\"Tajikistan\",\"Netherlandsantilles\",\"Mauritania\",\"Greenland\",\"Aruba\",\"Kuwait\",\"Rwanda\",\"Macao\",\"Uzbekistan\",\"Chad\",\"Cameroon\",\"Yemen\",\"Bahrain\",\"Martinique\",\"Honduras\",\"Fiji\",\"Thedemocraticrepublicofcongo\",\"Sudan\",\"Laos\",\"Zambia\",\"Andorra\",\"Northkorea\",\"Samoa\",\"Mozambique\",\"Brunei\",\"Libya\",\"Somalia\",\"Liberia\",\"Botswana\",\"Bermuda\",\"Niger\",\"Namibia\",\"Reunion\",\"Uganda\",\"Zimbabwe\",\"Lesotho\",\"Britishvirginislands\",\"Zaire\",\"Equatorialguinea\",\"Northvietnam\",\"Belize\",\"Maldives\",\"Faroeislands\",\"Holysee(vaticancitystate)\",\"Tanzania\",\"Capeverde\",\"Guinea\",\"Elsalvador\",\"Malawi\",\"Cookislands\",\"Gibraltar\",\"Suriname\",\"Papuanewguinea\",\"Newcaledonia\",\"Gabon\",\"Oman\",\"Nicaragua\",\"Svalbardandjanmayen\",\"Swaziland\",\"Korea\",\"Guinea-bissau\",\"Mauritius\",\"Vanuatu\",\"Djibouti\",\"Guadeloupe\"],\"marker\":{\"color\":\"orange\",\"size\":[32333,8089,7102,5757,4888,4652,3575,3448,2653,1775,1315,1276,1195,1178,1131,1128,1090,1013,1009,1008,885,882,841,695,669,637,630,622,618,614,460,446,430,426,416,384,365,363,345,345,315,294,283,267,263,240,228,219,214,191,172,161,134,120,112,109,108,105,104,103,100,87,80,76,74,72,70,69,68,68,65,61,60,60,59,55,53,53,42,42,37,36,35,30,30,28,27,26,26,26,24,23,23,21,20,19,18,17,16,16,15,15,14,14,14,14,13,12,11,11,11,10,10,8,8,8,8,7,7,7,7,7,6,6,6,6,6,6,5,5,5,5,5,4,4,4,4,4,4,4,3,3,3,3,3,3,3,3,3,2,2,2,2,2,2,2,2,2,2,2,2,2,2,2,2,1,1,1,1,1,1,1,1,1,1,1,1,1,1,1,1,1,1,1,1,1,1,1,1,1,1,1],\"sizemode\":\"area\",\"sizeref\":80.8325,\"symbol\":\"circle\"},\"mode\":\"markers\",\"name\":\"\",\"showlegend\":false,\"type\":\"scattergeo\"}],                        {\"template\":{\"data\":{\"bar\":[{\"error_x\":{\"color\":\"#2a3f5f\"},\"error_y\":{\"color\":\"#2a3f5f\"},\"marker\":{\"line\":{\"color\":\"#E5ECF6\",\"width\":0.5},\"pattern\":{\"fillmode\":\"overlay\",\"size\":10,\"solidity\":0.2}},\"type\":\"bar\"}],\"barpolar\":[{\"marker\":{\"line\":{\"color\":\"#E5ECF6\",\"width\":0.5},\"pattern\":{\"fillmode\":\"overlay\",\"size\":10,\"solidity\":0.2}},\"type\":\"barpolar\"}],\"carpet\":[{\"aaxis\":{\"endlinecolor\":\"#2a3f5f\",\"gridcolor\":\"white\",\"linecolor\":\"white\",\"minorgridcolor\":\"white\",\"startlinecolor\":\"#2a3f5f\"},\"baxis\":{\"endlinecolor\":\"#2a3f5f\",\"gridcolor\":\"white\",\"linecolor\":\"white\",\"minorgridcolor\":\"white\",\"startlinecolor\":\"#2a3f5f\"},\"type\":\"carpet\"}],\"choropleth\":[{\"colorbar\":{\"outlinewidth\":0,\"ticks\":\"\"},\"type\":\"choropleth\"}],\"contour\":[{\"colorbar\":{\"outlinewidth\":0,\"ticks\":\"\"},\"colorscale\":[[0.0,\"#0d0887\"],[0.1111111111111111,\"#46039f\"],[0.2222222222222222,\"#7201a8\"],[0.3333333333333333,\"#9c179e\"],[0.4444444444444444,\"#bd3786\"],[0.5555555555555556,\"#d8576b\"],[0.6666666666666666,\"#ed7953\"],[0.7777777777777778,\"#fb9f3a\"],[0.8888888888888888,\"#fdca26\"],[1.0,\"#f0f921\"]],\"type\":\"contour\"}],\"contourcarpet\":[{\"colorbar\":{\"outlinewidth\":0,\"ticks\":\"\"},\"type\":\"contourcarpet\"}],\"heatmap\":[{\"colorbar\":{\"outlinewidth\":0,\"ticks\":\"\"},\"colorscale\":[[0.0,\"#0d0887\"],[0.1111111111111111,\"#46039f\"],[0.2222222222222222,\"#7201a8\"],[0.3333333333333333,\"#9c179e\"],[0.4444444444444444,\"#bd3786\"],[0.5555555555555556,\"#d8576b\"],[0.6666666666666666,\"#ed7953\"],[0.7777777777777778,\"#fb9f3a\"],[0.8888888888888888,\"#fdca26\"],[1.0,\"#f0f921\"]],\"type\":\"heatmap\"}],\"heatmapgl\":[{\"colorbar\":{\"outlinewidth\":0,\"ticks\":\"\"},\"colorscale\":[[0.0,\"#0d0887\"],[0.1111111111111111,\"#46039f\"],[0.2222222222222222,\"#7201a8\"],[0.3333333333333333,\"#9c179e\"],[0.4444444444444444,\"#bd3786\"],[0.5555555555555556,\"#d8576b\"],[0.6666666666666666,\"#ed7953\"],[0.7777777777777778,\"#fb9f3a\"],[0.8888888888888888,\"#fdca26\"],[1.0,\"#f0f921\"]],\"type\":\"heatmapgl\"}],\"histogram\":[{\"marker\":{\"pattern\":{\"fillmode\":\"overlay\",\"size\":10,\"solidity\":0.2}},\"type\":\"histogram\"}],\"histogram2d\":[{\"colorbar\":{\"outlinewidth\":0,\"ticks\":\"\"},\"colorscale\":[[0.0,\"#0d0887\"],[0.1111111111111111,\"#46039f\"],[0.2222222222222222,\"#7201a8\"],[0.3333333333333333,\"#9c179e\"],[0.4444444444444444,\"#bd3786\"],[0.5555555555555556,\"#d8576b\"],[0.6666666666666666,\"#ed7953\"],[0.7777777777777778,\"#fb9f3a\"],[0.8888888888888888,\"#fdca26\"],[1.0,\"#f0f921\"]],\"type\":\"histogram2d\"}],\"histogram2dcontour\":[{\"colorbar\":{\"outlinewidth\":0,\"ticks\":\"\"},\"colorscale\":[[0.0,\"#0d0887\"],[0.1111111111111111,\"#46039f\"],[0.2222222222222222,\"#7201a8\"],[0.3333333333333333,\"#9c179e\"],[0.4444444444444444,\"#bd3786\"],[0.5555555555555556,\"#d8576b\"],[0.6666666666666666,\"#ed7953\"],[0.7777777777777778,\"#fb9f3a\"],[0.8888888888888888,\"#fdca26\"],[1.0,\"#f0f921\"]],\"type\":\"histogram2dcontour\"}],\"mesh3d\":[{\"colorbar\":{\"outlinewidth\":0,\"ticks\":\"\"},\"type\":\"mesh3d\"}],\"parcoords\":[{\"line\":{\"colorbar\":{\"outlinewidth\":0,\"ticks\":\"\"}},\"type\":\"parcoords\"}],\"pie\":[{\"automargin\":true,\"type\":\"pie\"}],\"scatter\":[{\"marker\":{\"colorbar\":{\"outlinewidth\":0,\"ticks\":\"\"}},\"type\":\"scatter\"}],\"scatter3d\":[{\"line\":{\"colorbar\":{\"outlinewidth\":0,\"ticks\":\"\"}},\"marker\":{\"colorbar\":{\"outlinewidth\":0,\"ticks\":\"\"}},\"type\":\"scatter3d\"}],\"scattercarpet\":[{\"marker\":{\"colorbar\":{\"outlinewidth\":0,\"ticks\":\"\"}},\"type\":\"scattercarpet\"}],\"scattergeo\":[{\"marker\":{\"colorbar\":{\"outlinewidth\":0,\"ticks\":\"\"}},\"type\":\"scattergeo\"}],\"scattergl\":[{\"marker\":{\"colorbar\":{\"outlinewidth\":0,\"ticks\":\"\"}},\"type\":\"scattergl\"}],\"scattermapbox\":[{\"marker\":{\"colorbar\":{\"outlinewidth\":0,\"ticks\":\"\"}},\"type\":\"scattermapbox\"}],\"scatterpolar\":[{\"marker\":{\"colorbar\":{\"outlinewidth\":0,\"ticks\":\"\"}},\"type\":\"scatterpolar\"}],\"scatterpolargl\":[{\"marker\":{\"colorbar\":{\"outlinewidth\":0,\"ticks\":\"\"}},\"type\":\"scatterpolargl\"}],\"scatterternary\":[{\"marker\":{\"colorbar\":{\"outlinewidth\":0,\"ticks\":\"\"}},\"type\":\"scatterternary\"}],\"surface\":[{\"colorbar\":{\"outlinewidth\":0,\"ticks\":\"\"},\"colorscale\":[[0.0,\"#0d0887\"],[0.1111111111111111,\"#46039f\"],[0.2222222222222222,\"#7201a8\"],[0.3333333333333333,\"#9c179e\"],[0.4444444444444444,\"#bd3786\"],[0.5555555555555556,\"#d8576b\"],[0.6666666666666666,\"#ed7953\"],[0.7777777777777778,\"#fb9f3a\"],[0.8888888888888888,\"#fdca26\"],[1.0,\"#f0f921\"]],\"type\":\"surface\"}],\"table\":[{\"cells\":{\"fill\":{\"color\":\"#EBF0F8\"},\"line\":{\"color\":\"white\"}},\"header\":{\"fill\":{\"color\":\"#C8D4E3\"},\"line\":{\"color\":\"white\"}},\"type\":\"table\"}]},\"layout\":{\"annotationdefaults\":{\"arrowcolor\":\"#2a3f5f\",\"arrowhead\":0,\"arrowwidth\":1},\"autotypenumbers\":\"strict\",\"coloraxis\":{\"colorbar\":{\"outlinewidth\":0,\"ticks\":\"\"}},\"colorscale\":{\"diverging\":[[0,\"#8e0152\"],[0.1,\"#c51b7d\"],[0.2,\"#de77ae\"],[0.3,\"#f1b6da\"],[0.4,\"#fde0ef\"],[0.5,\"#f7f7f7\"],[0.6,\"#e6f5d0\"],[0.7,\"#b8e186\"],[0.8,\"#7fbc41\"],[0.9,\"#4d9221\"],[1,\"#276419\"]],\"sequential\":[[0.0,\"#0d0887\"],[0.1111111111111111,\"#46039f\"],[0.2222222222222222,\"#7201a8\"],[0.3333333333333333,\"#9c179e\"],[0.4444444444444444,\"#bd3786\"],[0.5555555555555556,\"#d8576b\"],[0.6666666666666666,\"#ed7953\"],[0.7777777777777778,\"#fb9f3a\"],[0.8888888888888888,\"#fdca26\"],[1.0,\"#f0f921\"]],\"sequentialminus\":[[0.0,\"#0d0887\"],[0.1111111111111111,\"#46039f\"],[0.2222222222222222,\"#7201a8\"],[0.3333333333333333,\"#9c179e\"],[0.4444444444444444,\"#bd3786\"],[0.5555555555555556,\"#d8576b\"],[0.6666666666666666,\"#ed7953\"],[0.7777777777777778,\"#fb9f3a\"],[0.8888888888888888,\"#fdca26\"],[1.0,\"#f0f921\"]]},\"colorway\":[\"#636efa\",\"#EF553B\",\"#00cc96\",\"#ab63fa\",\"#FFA15A\",\"#19d3f3\",\"#FF6692\",\"#B6E880\",\"#FF97FF\",\"#FECB52\"],\"font\":{\"color\":\"#2a3f5f\"},\"geo\":{\"bgcolor\":\"white\",\"lakecolor\":\"white\",\"landcolor\":\"#E5ECF6\",\"showlakes\":true,\"showland\":true,\"subunitcolor\":\"white\"},\"hoverlabel\":{\"align\":\"left\"},\"hovermode\":\"closest\",\"mapbox\":{\"style\":\"light\"},\"paper_bgcolor\":\"white\",\"plot_bgcolor\":\"#E5ECF6\",\"polar\":{\"angularaxis\":{\"gridcolor\":\"white\",\"linecolor\":\"white\",\"ticks\":\"\"},\"bgcolor\":\"#E5ECF6\",\"radialaxis\":{\"gridcolor\":\"white\",\"linecolor\":\"white\",\"ticks\":\"\"}},\"scene\":{\"xaxis\":{\"backgroundcolor\":\"#E5ECF6\",\"gridcolor\":\"white\",\"gridwidth\":2,\"linecolor\":\"white\",\"showbackground\":true,\"ticks\":\"\",\"zerolinecolor\":\"white\"},\"yaxis\":{\"backgroundcolor\":\"#E5ECF6\",\"gridcolor\":\"white\",\"gridwidth\":2,\"linecolor\":\"white\",\"showbackground\":true,\"ticks\":\"\",\"zerolinecolor\":\"white\"},\"zaxis\":{\"backgroundcolor\":\"#E5ECF6\",\"gridcolor\":\"white\",\"gridwidth\":2,\"linecolor\":\"white\",\"showbackground\":true,\"ticks\":\"\",\"zerolinecolor\":\"white\"}},\"shapedefaults\":{\"line\":{\"color\":\"#2a3f5f\"}},\"ternary\":{\"aaxis\":{\"gridcolor\":\"white\",\"linecolor\":\"white\",\"ticks\":\"\"},\"baxis\":{\"gridcolor\":\"white\",\"linecolor\":\"white\",\"ticks\":\"\"},\"bgcolor\":\"#E5ECF6\",\"caxis\":{\"gridcolor\":\"white\",\"linecolor\":\"white\",\"ticks\":\"\"}},\"title\":{\"x\":0.05},\"xaxis\":{\"automargin\":true,\"gridcolor\":\"white\",\"linecolor\":\"white\",\"ticks\":\"\",\"title\":{\"standoff\":15},\"zerolinecolor\":\"white\",\"zerolinewidth\":2},\"yaxis\":{\"automargin\":true,\"gridcolor\":\"white\",\"linecolor\":\"white\",\"ticks\":\"\",\"title\":{\"standoff\":15},\"zerolinecolor\":\"white\",\"zerolinewidth\":2}}},\"geo\":{\"domain\":{\"x\":[0.0,1.0],\"y\":[0.0,1.0]},\"projection\":{\"type\":\"natural earth\"},\"center\":{}},\"legend\":{\"tracegroupgap\":0,\"itemsizing\":\"constant\"},\"margin\":{\"t\":60}},                        {\"responsive\": true}                    ).then(function(){\n",
       "                            \n",
       "var gd = document.getElementById('28a9de9b-965f-4993-ba47-a9f361de79a1');\n",
       "var x = new MutationObserver(function (mutations, observer) {{\n",
       "        var display = window.getComputedStyle(gd).display;\n",
       "        if (!display || display === 'none') {{\n",
       "            console.log([gd, 'removed!']);\n",
       "            Plotly.purge(gd);\n",
       "            observer.disconnect();\n",
       "        }}\n",
       "}});\n",
       "\n",
       "// Listen for the removal of the full notebook cells\n",
       "var notebookContainer = gd.closest('#notebook-container');\n",
       "if (notebookContainer) {{\n",
       "    x.observe(notebookContainer, {childList: true});\n",
       "}}\n",
       "\n",
       "// Listen for the clearing of the current output cell\n",
       "var outputEl = gd.closest('.output');\n",
       "if (outputEl) {{\n",
       "    x.observe(outputEl, {childList: true});\n",
       "}}\n",
       "\n",
       "                        })                };                });            </script>        </div>"
      ]
     },
     "metadata": {},
     "output_type": "display_data"
    }
   ],
   "source": [
    "fig = px.scatter_geo(frame, locations=\"country\", color_discrete_sequence=[\"orange\"], \n",
    "                     hover_name=\"country\", size=\"Frequency\", locationmode='country names',\n",
    "                     projection=\"natural earth\")\n",
    "fig.show()"
   ]
  },
  {
   "cell_type": "code",
   "execution_count": 7,
   "id": "aefa6573",
   "metadata": {},
   "outputs": [],
   "source": [
    "years = data.drop_duplicates(subset = \"year\")\n",
    "years = sorted(years['year'])"
   ]
  },
  {
   "cell_type": "code",
   "execution_count": 1,
   "id": "c2619cce",
   "metadata": {},
   "outputs": [
    {
     "ename": "NameError",
     "evalue": "name 'dash' is not defined",
     "output_type": "error",
     "traceback": [
      "\u001b[1;31m---------------------------------------------------------------------------\u001b[0m",
      "\u001b[1;31mNameError\u001b[0m                                 Traceback (most recent call last)",
      "\u001b[1;32m<ipython-input-1-643757ae158a>\u001b[0m in \u001b[0;36m<module>\u001b[1;34m\u001b[0m\n\u001b[1;32m----> 1\u001b[1;33m \u001b[0mapp\u001b[0m \u001b[1;33m=\u001b[0m \u001b[0mdash\u001b[0m\u001b[1;33m.\u001b[0m\u001b[0mDash\u001b[0m\u001b[1;33m(\u001b[0m\u001b[1;33m)\u001b[0m\u001b[1;33m\u001b[0m\u001b[1;33m\u001b[0m\u001b[0m\n\u001b[0m\u001b[0;32m      2\u001b[0m \u001b[1;33m\u001b[0m\u001b[0m\n\u001b[0;32m      3\u001b[0m app.layout = html.Div([\n\u001b[0;32m      4\u001b[0m     \u001b[0mhtml\u001b[0m\u001b[1;33m.\u001b[0m\u001b[0mH2\u001b[0m\u001b[1;33m(\u001b[0m\u001b[0mchildren\u001b[0m\u001b[1;33m=\u001b[0m\u001b[1;34m\"Let's Explore Movies Data!!\"\u001b[0m\u001b[1;33m,\u001b[0m \u001b[0mstyle\u001b[0m\u001b[1;33m=\u001b[0m\u001b[1;33m{\u001b[0m\u001b[1;34m'textAlign'\u001b[0m\u001b[1;33m:\u001b[0m\u001b[1;34m'center'\u001b[0m\u001b[1;33m}\u001b[0m\u001b[1;33m)\u001b[0m\u001b[1;33m,\u001b[0m\u001b[1;33m\u001b[0m\u001b[1;33m\u001b[0m\u001b[0m\n\u001b[0;32m      5\u001b[0m     \u001b[1;31m# open container\u001b[0m\u001b[1;33m\u001b[0m\u001b[1;33m\u001b[0m\u001b[1;33m\u001b[0m\u001b[0m\n",
      "\u001b[1;31mNameError\u001b[0m: name 'dash' is not defined"
     ]
    }
   ],
   "source": [
    "app = dash.Dash()\n",
    "\n",
    "app.layout = html.Div([\n",
    "    html.H2(children=\"Let's Explore Movies Data!!\", style={'textAlign':'center'}),\n",
    "    # open container\n",
    "    html.Div([\n",
    "        dcc.RadioItems(\n",
    "            # id = identifing dash components\n",
    "            id = 'Selection',\n",
    "            # options = list of dictionaries\n",
    "            options = [{'label': i, 'value': i} for i in ['Genre', 'Country', 'Language']],\n",
    "            # value = intial selected item\n",
    "            value = 'Genre',\n",
    "            # 'inline-block' for horizontal\n",
    "            labelStyle = {'display': 'inline-block'}\n",
    "        ),\n",
    "        \n",
    "        dcc.Dropdown(\n",
    "            id = 'drop',\n",
    "            options = [{'label': i, 'value': i} for i in years],\n",
    "            value = 'All Years',\n",
    "            # for choosing multiple values\n",
    "            multi = True,\n",
    "            # placeholder = defining default text to show\n",
    "            placeholder = \"Select a multiple  years\"\n",
    "         ),\n",
    "        \n",
    "        dcc.Graph(id = 'indicator_graphic_1')\n",
    "    ]),\n",
    "    # ************************************************************************************ #    \n",
    "    html.Div([\n",
    "        html.H2(children=\"Duration changes\", style={'textAlign':'center'}),\n",
    "\n",
    "        dcc.RangeSlider(\n",
    "            id = 'slider_1',\n",
    "            min = min(years),\n",
    "            max = max(years),\n",
    "            value = [min(years), max(years)],\n",
    "            tooltip = {\"placement\": \"bottom\", \"always_visible\": True},\n",
    "            pushable = True,\n",
    "            dots = False\n",
    "        ),\n",
    "        \n",
    "        html.Div(id='output_range_1', style={'textAlign':'center'}),\n",
    "        \n",
    "        dcc.Graph(id = 'indicator_graphic_2')\n",
    "    ]),\n",
    "    # ************************************************************************************ #\n",
    "    html.Div([\n",
    "        html.H2(children=\"Distribution of the most productive Movies\", style={'textAlign':'center'}),\n",
    "        \n",
    "        dcc.RangeSlider(\n",
    "            id = 'slider_2',\n",
    "            min = min(years),\n",
    "            max = max(years),\n",
    "            value = [min(years), max(years)],\n",
    "            tooltip = {\"placement\": \"bottom\", \"always_visible\": True},\n",
    "            allowCross = False,\n",
    "            dots = False\n",
    "        ),\n",
    "        \n",
    "        html.Div(id='output_range_2', style={'textAlign':'center'}),\n",
    "        \n",
    "        dcc.Graph(id = 'indicator_graphic_3')\n",
    "    ])\n",
    "    \n",
    "])\n",
    "\n",
    "# Bar Plot\n",
    "@app.callback(\n",
    "    dash.dependencies.Output('indicator_graphic_1', 'figure'),\n",
    "    dash.dependencies.Input('Selection', 'value'),\n",
    "    dash.dependencies.Input('drop', 'value'))\n",
    "def update_graph(Selection, year):\n",
    "    Selection = Selection.lower()\n",
    "    if year == \"All Years\" or len(year) == 0:\n",
    "        year = \"All Years\"\n",
    "        Select = data[Selection].str.cat(sep = ',')\n",
    "        G = pd.Series(Select.split(','))\n",
    "        frame = G.value_counts().rename_axis(Selection).reset_index(name='Frequency')\n",
    "        \n",
    "    else: \n",
    "        df = data[data['year'].isin(year)]\n",
    "        Select = df[Selection].str.cat(sep = ',')\n",
    "        G = pd.Series(Select.split(','))\n",
    "        frame = G.value_counts().rename_axis(Selection).reset_index(name='Frequency')\n",
    "    \n",
    "    return { 'data': [ go.Bar(x = frame[Selection],y = frame['Frequency'])], \n",
    "            'layout': go.Layout(title='The most trend {} in : {}'.format(Selection, year), \n",
    "                                xaxis={'title': Selection},\n",
    "                                yaxis={'title':'Frequency'}) }\n",
    "\n",
    "\n",
    "# Line Plot\n",
    "@app.callback(\n",
    "    dash.dependencies.Output('output_range_1', 'children'),\n",
    "    dash.dependencies.Input('slider_1', 'value'))\n",
    "def update_output(value):\n",
    "    return 'Duration change from {} to {}'.format( value[0], value[1])\n",
    "\n",
    "@app.callback(\n",
    "    dash.dependencies.Output('indicator_graphic_2', 'figure'),\n",
    "    dash.dependencies.Input('slider_1', 'value'))\n",
    "def update_graph(value):\n",
    "    mean_of_duration = data.groupby(['year'])['duration'].mean().reset_index() \n",
    "    df = mean_of_duration[mean_of_duration['year'].isin([x for x in range(value[0], value[1]+1)])]\n",
    "    return px.line(df, x=\"year\", y=\"duration\")\n",
    "\n",
    "\n",
    "# Bubble Map\n",
    "@app.callback(\n",
    "    dash.dependencies.Output('output_range_2', 'children'),\n",
    "    dash.dependencies.Input('slider_2', 'value'))\n",
    "def update_output(value):\n",
    "    return 'Distribution of the most movie production countries from {} to {}'.format( value[0], value[1])\n",
    "\n",
    "\n",
    "@app.callback(\n",
    "    dash.dependencies.Output('indicator_graphic_3', 'figure'),\n",
    "    dash.dependencies.Input('slider_2', 'value'))\n",
    "def update_graph(value):\n",
    "    Select = data[data['year'].isin(value)]['country'].str.cat(sep = ',').replace(\" \",\"\").lower().replace(\"westgermany\",\"germany\")\n",
    "    G11 = pd.Series(Select.split(','))\n",
    "    frame = G11.value_counts().rename_axis('country').reset_index(name='Frequency')\n",
    "    frame['country'] = frame['country'].str.capitalize()     \n",
    "    return px.scatter_geo(frame, locations=\"country\", color_discrete_sequence=[\"orange\"], \n",
    "                         hover_name=\"country\", size=\"Frequency\", locationmode='country names',\n",
    "                         projection=\"natural earth\")"
   ]
  },
  {
   "cell_type": "code",
   "execution_count": 9,
   "id": "636b844e",
   "metadata": {},
   "outputs": [
    {
     "name": "stdout",
     "output_type": "stream",
     "text": [
      "Dash is running on http://127.0.0.1:8050/\n",
      "\n",
      " * Serving Flask app \"__main__\" (lazy loading)\n",
      " * Environment: production\n",
      "   WARNING: This is a development server. Do not use it in a production deployment.\n",
      "   Use a production WSGI server instead.\n",
      " * Debug mode: off\n"
     ]
    },
    {
     "name": "stderr",
     "output_type": "stream",
     "text": [
      " * Running on http://127.0.0.1:8050/ (Press CTRL+C to quit)\n",
      "127.0.0.1 - - [02/Jan/2022 19:31:15] \"\u001b[37mGET / HTTP/1.1\u001b[0m\" 200 -\n",
      "127.0.0.1 - - [02/Jan/2022 19:31:15] \"\u001b[37mGET /_dash-layout HTTP/1.1\u001b[0m\" 200 -\n",
      "127.0.0.1 - - [02/Jan/2022 19:31:15] \"\u001b[37mGET /_dash-dependencies HTTP/1.1\u001b[0m\" 200 -\n",
      "127.0.0.1 - - [02/Jan/2022 19:31:15] \"\u001b[36mGET /_dash-component-suites/dash/dcc/async-dropdown.js HTTP/1.1\u001b[0m\" 304 -\n",
      "127.0.0.1 - - [02/Jan/2022 19:31:15] \"\u001b[36mGET /_dash-component-suites/dash/dcc/async-graph.js HTTP/1.1\u001b[0m\" 304 -\n",
      "127.0.0.1 - - [02/Jan/2022 19:31:15] \"\u001b[36mGET /_dash-component-suites/dash/dcc/async-slider.js HTTP/1.1\u001b[0m\" 304 -\n",
      "127.0.0.1 - - [02/Jan/2022 19:31:15] \"\u001b[36mGET /_dash-component-suites/dash/dcc/async-plotlyjs.js HTTP/1.1\u001b[0m\" 304 -\n",
      "127.0.0.1 - - [02/Jan/2022 19:31:15] \"\u001b[37mPOST /_dash-update-component HTTP/1.1\u001b[0m\" 200 -\n",
      "127.0.0.1 - - [02/Jan/2022 19:31:15] \"\u001b[37mPOST /_dash-update-component HTTP/1.1\u001b[0m\" 200 -\n",
      "127.0.0.1 - - [02/Jan/2022 19:31:15] \"\u001b[37mPOST /_dash-update-component HTTP/1.1\u001b[0m\" 200 -\n",
      "127.0.0.1 - - [02/Jan/2022 19:31:15] \"\u001b[37mPOST /_dash-update-component HTTP/1.1\u001b[0m\" 200 -\n",
      "127.0.0.1 - - [02/Jan/2022 19:31:15] \"\u001b[37mPOST /_dash-update-component HTTP/1.1\u001b[0m\" 200 -\n",
      "127.0.0.1 - - [02/Jan/2022 19:31:19] \"\u001b[37mPOST /_dash-update-component HTTP/1.1\u001b[0m\" 200 -\n",
      "127.0.0.1 - - [02/Jan/2022 19:31:19] \"\u001b[37mPOST /_dash-update-component HTTP/1.1\u001b[0m\" 200 -\n",
      "127.0.0.1 - - [02/Jan/2022 19:31:20] \"\u001b[37mPOST /_dash-update-component HTTP/1.1\u001b[0m\" 200 -\n",
      "127.0.0.1 - - [02/Jan/2022 19:31:20] \"\u001b[37mPOST /_dash-update-component HTTP/1.1\u001b[0m\" 200 -\n",
      "127.0.0.1 - - [02/Jan/2022 19:31:21] \"\u001b[37mPOST /_dash-update-component HTTP/1.1\u001b[0m\" 200 -\n",
      "127.0.0.1 - - [02/Jan/2022 19:31:21] \"\u001b[37mPOST /_dash-update-component HTTP/1.1\u001b[0m\" 200 -\n",
      "127.0.0.1 - - [02/Jan/2022 19:31:21] \"\u001b[37mPOST /_dash-update-component HTTP/1.1\u001b[0m\" 200 -\n",
      "127.0.0.1 - - [02/Jan/2022 19:31:22] \"\u001b[37mPOST /_dash-update-component HTTP/1.1\u001b[0m\" 200 -\n",
      "127.0.0.1 - - [02/Jan/2022 19:31:23] \"\u001b[37mPOST /_dash-update-component HTTP/1.1\u001b[0m\" 200 -\n",
      "127.0.0.1 - - [02/Jan/2022 19:31:23] \"\u001b[37mPOST /_dash-update-component HTTP/1.1\u001b[0m\" 200 -\n",
      "127.0.0.1 - - [02/Jan/2022 19:31:24] \"\u001b[37mPOST /_dash-update-component HTTP/1.1\u001b[0m\" 200 -\n",
      "127.0.0.1 - - [02/Jan/2022 19:31:24] \"\u001b[37mPOST /_dash-update-component HTTP/1.1\u001b[0m\" 200 -\n",
      "127.0.0.1 - - [02/Jan/2022 19:31:29] \"\u001b[37mPOST /_dash-update-component HTTP/1.1\u001b[0m\" 200 -\n",
      "127.0.0.1 - - [02/Jan/2022 19:31:29] \"\u001b[37mPOST /_dash-update-component HTTP/1.1\u001b[0m\" 200 -\n",
      "127.0.0.1 - - [02/Jan/2022 19:31:30] \"\u001b[37mPOST /_dash-update-component HTTP/1.1\u001b[0m\" 200 -\n",
      "127.0.0.1 - - [02/Jan/2022 19:31:30] \"\u001b[37mPOST /_dash-update-component HTTP/1.1\u001b[0m\" 200 -\n",
      "127.0.0.1 - - [02/Jan/2022 19:31:31] \"\u001b[37mPOST /_dash-update-component HTTP/1.1\u001b[0m\" 200 -\n",
      "127.0.0.1 - - [02/Jan/2022 19:31:31] \"\u001b[37mPOST /_dash-update-component HTTP/1.1\u001b[0m\" 200 -\n",
      "127.0.0.1 - - [02/Jan/2022 19:31:33] \"\u001b[37mPOST /_dash-update-component HTTP/1.1\u001b[0m\" 200 -\n",
      "127.0.0.1 - - [02/Jan/2022 19:31:33] \"\u001b[37mPOST /_dash-update-component HTTP/1.1\u001b[0m\" 200 -\n",
      "127.0.0.1 - - [02/Jan/2022 19:31:35] \"\u001b[37mPOST /_dash-update-component HTTP/1.1\u001b[0m\" 200 -\n",
      "127.0.0.1 - - [02/Jan/2022 19:31:35] \"\u001b[37mPOST /_dash-update-component HTTP/1.1\u001b[0m\" 200 -\n",
      "127.0.0.1 - - [02/Jan/2022 19:31:35] \"\u001b[37mPOST /_dash-update-component HTTP/1.1\u001b[0m\" 200 -\n",
      "127.0.0.1 - - [02/Jan/2022 19:31:35] \"\u001b[37mPOST /_dash-update-component HTTP/1.1\u001b[0m\" 200 -\n",
      "127.0.0.1 - - [02/Jan/2022 19:31:37] \"\u001b[37mPOST /_dash-update-component HTTP/1.1\u001b[0m\" 200 -\n",
      "127.0.0.1 - - [02/Jan/2022 19:31:37] \"\u001b[37mPOST /_dash-update-component HTTP/1.1\u001b[0m\" 200 -\n",
      "127.0.0.1 - - [02/Jan/2022 19:31:41] \"\u001b[37mPOST /_dash-update-component HTTP/1.1\u001b[0m\" 200 -\n",
      "127.0.0.1 - - [02/Jan/2022 19:31:41] \"\u001b[37mPOST /_dash-update-component HTTP/1.1\u001b[0m\" 200 -\n",
      "127.0.0.1 - - [02/Jan/2022 19:31:42] \"\u001b[37mPOST /_dash-update-component HTTP/1.1\u001b[0m\" 200 -\n",
      "127.0.0.1 - - [02/Jan/2022 19:31:42] \"\u001b[37mPOST /_dash-update-component HTTP/1.1\u001b[0m\" 200 -\n",
      "127.0.0.1 - - [02/Jan/2022 19:31:48] \"\u001b[37mPOST /_dash-update-component HTTP/1.1\u001b[0m\" 200 -\n",
      "127.0.0.1 - - [02/Jan/2022 19:31:48] \"\u001b[37mPOST /_dash-update-component HTTP/1.1\u001b[0m\" 200 -\n",
      "127.0.0.1 - - [02/Jan/2022 19:31:49] \"\u001b[37mPOST /_dash-update-component HTTP/1.1\u001b[0m\" 200 -\n",
      "127.0.0.1 - - [02/Jan/2022 19:31:49] \"\u001b[37mPOST /_dash-update-component HTTP/1.1\u001b[0m\" 200 -\n",
      "127.0.0.1 - - [02/Jan/2022 19:31:50] \"\u001b[37mPOST /_dash-update-component HTTP/1.1\u001b[0m\" 200 -\n",
      "127.0.0.1 - - [02/Jan/2022 19:31:50] \"\u001b[37mPOST /_dash-update-component HTTP/1.1\u001b[0m\" 200 -\n",
      "127.0.0.1 - - [02/Jan/2022 19:31:52] \"\u001b[37mPOST /_dash-update-component HTTP/1.1\u001b[0m\" 200 -\n",
      "127.0.0.1 - - [02/Jan/2022 19:31:52] \"\u001b[37mPOST /_dash-update-component HTTP/1.1\u001b[0m\" 200 -\n",
      "127.0.0.1 - - [02/Jan/2022 19:31:53] \"\u001b[37mPOST /_dash-update-component HTTP/1.1\u001b[0m\" 200 -\n",
      "127.0.0.1 - - [02/Jan/2022 19:31:53] \"\u001b[37mPOST /_dash-update-component HTTP/1.1\u001b[0m\" 200 -\n"
     ]
    }
   ],
   "source": [
    "if __name__ == \"__main__\":\n",
    "    app.run_server(debug=False)"
   ]
  },
  {
   "cell_type": "code",
   "execution_count": null,
   "id": "c8408494",
   "metadata": {},
   "outputs": [],
   "source": []
  }
 ],
 "metadata": {
  "kernelspec": {
   "display_name": "Python 3",
   "language": "python",
   "name": "python3"
  },
  "language_info": {
   "codemirror_mode": {
    "name": "ipython",
    "version": 3
   },
   "file_extension": ".py",
   "mimetype": "text/x-python",
   "name": "python",
   "nbconvert_exporter": "python",
   "pygments_lexer": "ipython3",
   "version": "3.8.8"
  }
 },
 "nbformat": 4,
 "nbformat_minor": 5
}
